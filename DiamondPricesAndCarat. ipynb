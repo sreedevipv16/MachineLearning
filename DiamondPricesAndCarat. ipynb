%matplotlib inline
import matplotlib.pyplot as plt
import matplotlib 
import numpy as np
import pandas as pd
from pandas import Series, DataFrame
import seaborn as sns
import pickle
